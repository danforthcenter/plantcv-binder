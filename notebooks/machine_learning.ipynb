{
 "cells": [
  {
   "cell_type": "markdown",
   "metadata": {
    "collapsed": true
   },
   "source": [
    "# Machine Learning Tutorial \n",
    "\n",
    "The naive Bayes multiclass approach is an extension of the naive Bayes approach. It can be trained to output binary images given an input color image. Unlike the naive Bayes method, the naive Bayes multiclass approach can be trained to classify two or more classes, defined by the user. Additionally, the naive Bayes multiclass method is trained using colors sparsely sampled from images rather than the need to label all pixels in a given image.\n",
    "\n",
    "To train the classifier, we need to build a table of red, green, and blue color values for pixels sampled evenly from each class. The idea here is to collect a relevant sample of pixel color data for each class. The size of the sample needed to build robust probability density functions for each class will depend on a number of factors, including the variability in class colors and imaging quality/reproducibility. To collect pixel color data we currently use the Pixel Inspection Tool in [ImageJ](https://imagej.nih.gov/ij/). Each column in the tab-delimited table is a feature class (in this example, plant, pustule, chlorosis, or background)\n",
    "and each cell is a comma-separated red, green, and blue triplet for a pixel.\n",
    "\n",
    "\n",
    "\n"
   ]
  },
  {
   "cell_type": "markdown",
   "metadata": {},
   "source": [
    "Once a satisfactory sample of pixels is collected, save the table as a tab-delimited text file. Use `plantcv-train.py` to use the pixel samples to output probability density functions (PDFs)\n",
    "for each class."
   ]
  },
  {
   "cell_type": "markdown",
   "metadata": {},
   "source": [
    "plantcv-train.py naive_bayes_multiclass --file pixel_samples.txt --outfile naive_bayes_pdfs.txt --plots"
   ]
  },
  {
   "cell_type": "markdown",
   "metadata": {},
   "source": [
    "The output file from `plantcv-train.py` will contain one row for each color channel (hue, saturation, and value) for\n",
    "each class. The first and second column are the class and channel label, respectively. The\n",
    "remaining 256 columns contain the p-value from the PDFs for each intensity value observable in an 8-bit image (0-255).\n",
    "\n",
    "Once we have the `plantcv-train.py` output file, we can classify pixels in a color image in PlantCV. In the example image for this tutorial we have already collected pixels and created the probability density functions for each class. "
   ]
  },
  {
   "cell_type": "code",
   "execution_count": null,
   "metadata": {},
   "outputs": [],
   "source": [
    "# Import libraries\n",
    "\n",
    "import cv2\n",
    "from plantcv import plantcv as pcv\n"
   ]
  },
  {
   "cell_type": "code",
   "execution_count": null,
   "metadata": {},
   "outputs": [],
   "source": [
    "class options:\n",
    "    def __init__(self):\n",
    "        self.image = \"img/tutorial_images/machine_learning/color_image.jpg\"\n",
    "        self.debug = \"plot\"\n",
    "        self.writeimg= False \n",
    "        self.outdir = \".\"\n",
    "\n",
    "# Get options\n",
    "args = options()\n",
    "\n",
    "# Set debug to the global parameter \n",
    "pcv.params.debug = args.debug\n"
   ]
  },
  {
   "cell_type": "code",
   "execution_count": null,
   "metadata": {},
   "outputs": [],
   "source": [
    "# Read image \n",
    "\n",
    "# Inputs:\n",
    "#   filename - Image file to be read in \n",
    "#   mode - Return mode of image; either 'native' (default), 'rgb', 'gray', or 'csv' \n",
    "img, path, filename = pcv.readimage(filename=args.image)\n"
   ]
  },
  {
   "cell_type": "code",
   "execution_count": null,
   "metadata": {},
   "outputs": [],
   "source": [
    "# Use the output file from `plantcv-train.py` to run the multiclass \n",
    "# naive bayes classification on the image. The function below will \n",
    "# print out 4 masks (plant, pustule, chlorosis, background)\n",
    "\n",
    "# Inputs: \n",
    "#   rgb_img - RGB image data \n",
    "#   pdf_file - Output file containing PDFs from `plantcv-train.py`\n",
    "mask = pcv.naive_bayes_classifier(rgb_img=img, \n",
    "                                  pdf_file=\"img/tutorial_images/machine_learning/machine_learning.txt\")\n"
   ]
  },
  {
   "cell_type": "code",
   "execution_count": null,
   "metadata": {},
   "outputs": [],
   "source": [
    "# We can apply each mask to the original image to more accurately \n",
    "# see what got masked\n",
    "\n",
    "# Inputs:\n",
    "#   rgb_img - RGB image data \n",
    "#   mask - Binary mask image data \n",
    "#   mask_color - 'white' or 'black' \n",
    "plant_img = pcv.apply_mask(mask=(mask['plant']), rgb_img=img, mask_color='black')\n",
    "pustule_img = pcv.apply_mask(mask=(mask['pustule']), rgb_img=img, mask_color='black')\n",
    "chlorosis_img = pcv.apply_mask(mask=(mask['chlorosis']), rgb_img=img, mask_color='black')\n",
    "background_img = pcv.apply_mask(mask=(mask['background']), rgb_img=img, mask_color='black')\n"
   ]
  },
  {
   "cell_type": "code",
   "execution_count": null,
   "metadata": {},
   "outputs": [],
   "source": [
    "# Write image and mask with the same name to the path \n",
    "# specified (creates two folders within the path if they do not exist).\n",
    "\n",
    "# Inputs: \n",
    "#   img - RGB or grayscale image data, original image \n",
    "#   mask - Binary mask image created \n",
    "#   filename - Image filename to get saved as\n",
    "#   outdir - Output directory (default: None)\n",
    "#   mask_only - Defaults to False, if True then only outputs mask \n",
    "plant_maskpath, plant_analysis_images = pcv.output_mask(img=img, mask=mask['plant'], \n",
    "                                                        filename='plant.png', mask_only=True)\n",
    "pust_maskpath, pust_analysis_images = pcv.output_mask(img=img, mask=mask['pustule'], \n",
    "                                                      filename='pustule.png', mask_only=True)\n",
    "chlor_maskpath, chlor_analysis_images = pcv.output_mask(img=img, mask=mask['chlorosis'], \n",
    "                                                        filename='chlorosis.png', mask_only=True)\n",
    "bkgrd_maskpath, bkgrd_analysis_images = pcv.output_mask(img=img, mask=mask['background'], \n",
    "                                                        filename='background.png', mask_only=True)\n"
   ]
  },
  {
   "cell_type": "code",
   "execution_count": null,
   "metadata": {},
   "outputs": [],
   "source": [
    "# To see all of these masks together we can plot them with plant set to green,\n",
    "# chlorosis set to gold, and pustule set to red.\n",
    "\n",
    "# Inputs:\n",
    "#   masks - List of masks (the different classes returned by naive_bayes_classifier)\n",
    "#   colors - List of colors to assign to each class. Users can either provide a \n",
    "#   list of color names (str) or can provide tuples of custom BGR values\n",
    "classified_img = pcv.visualize.colorize_masks(masks=[mask['plant'], mask['pustule'], \n",
    "                                                     mask['chlorosis'], mask['background']], \n",
    "                                              colors=['dark green', 'red', 'gold', 'gray'])\n"
   ]
  },
  {
   "cell_type": "code",
   "execution_count": null,
   "metadata": {},
   "outputs": [],
   "source": [
    "import numpy as np\n",
    "\n",
    "# Calculate percent of the plant found to be diseased \n",
    "sick_plant = np.count_nonzero(mask['pustule']) + np.count_nonzero(mask['chlorosis'])\n",
    "healthy_plant = np.count_nonzero(mask['plant'])\n",
    "percent_diseased = sick_plant / (sick_plant + healthy_plant)\n",
    "\n"
   ]
  },
  {
   "cell_type": "code",
   "execution_count": null,
   "metadata": {},
   "outputs": [],
   "source": [
    "# Create a new measurement (gets saved to the outputs class) \n",
    "\n",
    "# Inputs:\n",
    "#    variable - The name of the variable for the observation to get stored. Must be unique to other variable names\n",
    "#               since data is a dictionary format where variable is the key.\n",
    "#    trait - Description of the observation getting stored\n",
    "#    method - Description of the method for calculating the observation\n",
    "#    scale - Observation scale\n",
    "#    datatype - The datatype of the observation, most commonly either bool, str, int, float, list \n",
    "#    value - Value of the observation getting stored\n",
    "#    label - Label for the observation getting stored. Required for list datatype observations. \n",
    "pcv.outputs.add_observation(variable='percent_diseased', trait='percent of plant detected to be diseased',\n",
    "                            method='ratio of pixels', scale='percent', datatype=float,\n",
    "                            value=percent_diseased, label='percent')\n",
    "\n"
   ]
  },
  {
   "cell_type": "code",
   "execution_count": null,
   "metadata": {},
   "outputs": [],
   "source": [
    "# Data stored to the outputs class can be accessed using the variable name\n",
    "pcv.outputs.observations['percent_diseased']['value']\n"
   ]
  },
  {
   "cell_type": "code",
   "execution_count": null,
   "metadata": {},
   "outputs": [],
   "source": [
    "# The print_results function will take the measurements stored when running any (or all) of these functions, format, \n",
    "# and print an output text file for data analysis. The Outputs class stores data whenever any of the following functions\n",
    "# are ran: analyze_bound_horizontal, analyze_bound_vertical, analyze_color, analyze_nir_intensity, analyze_object, \n",
    "# fluor_fvfm, report_size_marker_area, watershed. If no functions have been run, it will print an empty text file \n",
    "pcv.print_results(filename='ml_tutorial_results.txt')"
   ]
  },
  {
   "cell_type": "markdown",
   "metadata": {},
   "source": [
    "To view and/or download the text file output (saved in JSON format)...\n",
    "1) To see the text file with data that got saved out, click “File” tab in top left corner.\n",
    "2) Click “Open…”\n",
    "3) CLick on the file named “ml_tutorial_results.txt”\n",
    "\n",
    "Check out documentation on how to [convert JSON](https://plantcv.readthedocs.io/en/latest/tools/#convert-output-json-data-files-to-csv-tables) format output into table formatted output. Depending on the analysis steps a PlantCV user may have two CSV files (single value traits and multivalue traits). \n"
   ]
  },
  {
   "cell_type": "code",
   "execution_count": null,
   "metadata": {},
   "outputs": [],
   "source": []
  }
 ],
 "metadata": {
  "kernelspec": {
   "display_name": "Python 2",
   "language": "python",
   "name": "python2"
  },
  "language_info": {
   "codemirror_mode": {
    "name": "ipython",
    "version": 2
   },
   "file_extension": ".py",
   "mimetype": "text/x-python",
   "name": "python",
   "nbconvert_exporter": "python",
   "pygments_lexer": "ipython2",
   "version": "2.7.6"
  }
 },
 "nbformat": 4,
 "nbformat_minor": 0
}
