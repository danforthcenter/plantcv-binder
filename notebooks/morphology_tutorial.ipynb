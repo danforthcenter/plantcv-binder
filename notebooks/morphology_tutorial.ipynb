{
 "cells": [
  {
   "cell_type": "markdown",
   "metadata": {
    "collapsed": true
   },
   "source": [
    "# Morphology Tutorial \n",
    "\n",
    "Morphology sub-package functions can be used with a clean mask of a plant (see [VIS tutorial](vis_tutorial.ipynb) for examples of masking background. This tutorial will start with a binary mask (after object segmentation has been completed) but in a complete workflow users will need to use other functions to achieve plant isolation. Skeletonizing is very sensitive to any pepper noise remaining within a binary mask. Morphology functions are intended to be one type of object analysis. These functions can potentially return information about leaf length, leaf angle, and leaf curvature.\n"
   ]
  },
  {
   "cell_type": "code",
   "execution_count": null,
   "metadata": {},
   "outputs": [],
   "source": [
    "# Import libraries\n",
    "from plantcv import plantcv as pcv \n"
   ]
  },
  {
   "cell_type": "code",
   "execution_count": null,
   "metadata": {},
   "outputs": [],
   "source": [
    "class options:\n",
    "    def __init__(self):\n",
    "        self.image = \"img/tutorial_images/morphology/mask.png\"\n",
    "        self.debug = \"plot\"\n",
    "        self.writeimg= False \n",
    "        self.result = \"morphology_tutorial_results.txt\"\n",
    "        self.outdir = \".\"\n",
    "\n",
    "# Get options\n",
    "args = options()\n",
    "\n",
    "# Set debug to the global parameter \n",
    "pcv.params.debug = args.debug\n"
   ]
  },
  {
   "cell_type": "code",
   "execution_count": null,
   "metadata": {},
   "outputs": [],
   "source": [
    "# Read image (sometimes you need to run this line twice to see the image) \n",
    "\n",
    "# Inputs:\n",
    "#   filename - Image file to be read in \n",
    "#   mode - How to read in the image; either 'native' (default), 'rgb', 'gray', or 'csv'\n",
    "img, path, filename = pcv.readimage(filename=args.image)\n",
    "\n",
    "# Crop the mask \n",
    "cropped_mask = img[1150:1750, 900:1550]\n"
   ]
  },
  {
   "cell_type": "code",
   "execution_count": null,
   "metadata": {},
   "outputs": [],
   "source": [
    "# Skeletonize the mask \n",
    "#%matplotlib notebook\n",
    "# To enable the zoom feature to better see fine lines, uncomment the line above ^^ \n",
    "\n",
    "# Inputs:\n",
    "#   mask = Binary image data\n",
    "skeleton = pcv.morphology.skeletonize(mask=cropped_mask)\n"
   ]
  },
  {
   "cell_type": "code",
   "execution_count": null,
   "metadata": {},
   "outputs": [],
   "source": [
    "# Prune the skeleton  \n",
    "# Generally, skeletonized images will have barbs (this image is particularly ideal, \n",
    "# that's why it's the example image in the tutorial!), \n",
    "# representing the width, that need to get pruned off. \n",
    "\n",
    "# Inputs:\n",
    "#   skel_img = Skeletonized image\n",
    "#   size     = Size to get pruned off each branch\n",
    "#   mask     = (Optional) binary mask for debugging. If provided, debug image will be overlaid on the mask.\n",
    "img1, seg_img, edge_objects = pcv.morphology.prune(skel_img=skeleton, size=10, mask=cropped_mask)\n"
   ]
  },
  {
   "cell_type": "code",
   "execution_count": null,
   "metadata": {},
   "outputs": [],
   "source": [
    "# Fill in segments (also stores out area data)  \n",
    "\n",
    "# Inputs:\n",
    "# mask         = Binary image, single channel, object = 1 and background = 0\n",
    "# objects      = List of contours\n",
    "# label        = Optional label parameter, modifies the variable name of observations recorded. (default `label=\"default\"`)filled_img = pcv.morphology.fill_segments(mask=cropped_mask, objects=edge_objects)\n",
    "\n",
    "filled_img = pcv.morphology.fill_segments(mask=cropped_mask, objects=edge_objects)\n"
   ]
  },
  {
   "cell_type": "code",
   "execution_count": null,
   "metadata": {},
   "outputs": [],
   "source": [
    "# Identify branch points   \n",
    "\n",
    "# Inputs:\n",
    "#   skel_img = Skeletonized image\n",
    "#   mask     = (Optional) binary mask for debugging. If provided, debug image will be overlaid on the mask.\n",
    "# label      = Optional label parameter, modifies the variable name of observations recorded. (default `label=\"default\"`)filled_img = pcv.morphology.fill_segments(mask=cropped_mask, objects=edge_objects)\n",
    "\n",
    "branch_pts_mask = pcv.morphology.find_branch_pts(skel_img=skeleton, mask=cropped_mask)\n"
   ]
  },
  {
   "cell_type": "code",
   "execution_count": null,
   "metadata": {},
   "outputs": [],
   "source": [
    "# Identify tip points   \n",
    "\n",
    "# Inputs:\n",
    "#   skel_img = Skeletonized image\n",
    "#   mask     = (Optional) binary mask for debugging. If provided, debug \n",
    "#              image will be overlaid on the mask\n",
    "# label      = Optional label parameter, modifies the variable name of observations recorded. (default `label=\"default\"`)filled_img = pcv.morphology.fill_segments(mask=cropped_mask, objects=edge_objects)\n",
    "\n",
    "tip_pts_mask = pcv.morphology.find_tips(skel_img=skeleton, mask=None)\n"
   ]
  },
  {
   "cell_type": "code",
   "execution_count": null,
   "metadata": {},
   "outputs": [],
   "source": [
    "# Adjust line thickness with the global line thickness parameter (default = 5),\n",
    "# and provide binary mask of the plant for debugging. NOTE: the objects and\n",
    "# hierarchies returned will be exactly the same but the debugging image (segmented_img)\n",
    "# will look different.\n",
    "pcv.params.line_thickness = 3 \n"
   ]
  },
  {
   "cell_type": "code",
   "execution_count": null,
   "metadata": {},
   "outputs": [],
   "source": [
    "# Sort segments into primary (stem) objects and secondary (leaf) objects. \n",
    "# Downstream steps can be performed on just one class of objects at a time, \n",
    "# or all objects (output from segment_skeleton) \n",
    "  \n",
    "# Inputs:\n",
    "#   skel_img  = Skeletonized image\n",
    "#   objects   = List of contours\n",
    "#   mask      = (Optional) binary mask for debugging. If provided, debug image will be overlaid on the mask.\n",
    "leaf_obj, stem_obj = pcv.morphology.segment_sort(skel_img=skeleton, \n",
    "                                                 objects=edge_objects,\n",
    "                                                 mask=cropped_mask)\n"
   ]
  },
  {
   "cell_type": "code",
   "execution_count": null,
   "metadata": {},
   "outputs": [],
   "source": [
    "# Identify segments     \n",
    "\n",
    "# Inputs:\n",
    "#   skel_img  = Skeletonized image\n",
    "#   objects   = List of contours\n",
    "#   mask      = (Optional) binary mask for debugging. If provided, \n",
    "#               debug image will be overlaid on the mask.\n",
    "segmented_img, labeled_img = pcv.morphology.segment_id(skel_img=skeleton,\n",
    "                                                       objects=leaf_obj,\n",
    "                                                       mask=cropped_mask)\n"
   ]
  },
  {
   "cell_type": "code",
   "execution_count": null,
   "metadata": {},
   "outputs": [],
   "source": [
    "# Similar to line thickness, there are optional text size and text thickness parameters \n",
    "# that can be adjusted to better suit images or varying sizes.\n",
    "pcv.params.text_size=.8 # (default text_size=.55)\n",
    "pcv.params.text_thickness=3 # (defaul text_thickness=2) \n",
    "\n",
    "segmented_img, labeled_img = pcv.morphology.segment_id(skel_img=skeleton,\n",
    "                                                       objects=leaf_obj,\n",
    "                                                       mask=cropped_mask)\n"
   ]
  },
  {
   "cell_type": "code",
   "execution_count": null,
   "metadata": {},
   "outputs": [],
   "source": [
    "# Measure path lengths of segments     \n",
    "\n",
    "# Inputs:\n",
    "#   segmented_img = Segmented image to plot lengths on\n",
    "#   objects       = List of contours\n",
    "# label           = Optional label parameter, modifies the variable name of observations recorded. (default `label=\"default\"`)filled_img = pcv.morphology.fill_segments(mask=cropped_mask, objects=edge_objects)\n",
    "\n",
    "labeled_img  = pcv.morphology.segment_path_length(segmented_img=segmented_img, \n",
    "                                                  objects=leaf_obj)\n"
   ]
  },
  {
   "cell_type": "code",
   "execution_count": null,
   "metadata": {},
   "outputs": [],
   "source": [
    "# Measure euclidean distance of segments      \n",
    "\n",
    "# Inputs:\n",
    "#   segmented_img = Segmented image to plot lengths on\n",
    "#   objects       = List of contours\n",
    "#   label         = Optional label parameter, modifies the variable name of observations recorded. (default `label=\"default\"`)filled_img = pcv.morphology.fill_segments(mask=cropped_mask, objects=edge_objects)\n",
    "\n",
    "labeled_img = pcv.morphology.segment_euclidean_length(segmented_img=segmented_img, \n",
    "                                                      objects=leaf_obj)\n"
   ]
  },
  {
   "cell_type": "code",
   "execution_count": null,
   "metadata": {},
   "outputs": [],
   "source": [
    "# Measure curvature of segments      \n",
    "\n",
    "# Inputs:\n",
    "#   segmented_img = Segmented image to plot curvature on\n",
    "#   objects       = List of contours\n",
    "#   label         = Optional label parameter, modifies the variable name of observations recorded. (default `label=\"default\"`)filled_img = pcv.morphology.fill_segments(mask=cropped_mask, objects=edge_objects)\n",
    "\n",
    "labeled_img = pcv.morphology.segment_curvature(segmented_img=segmented_img, \n",
    "                                               objects=leaf_obj)\n"
   ]
  },
  {
   "cell_type": "code",
   "execution_count": null,
   "metadata": {},
   "outputs": [],
   "source": [
    "# Measure the angle of segments      \n",
    "\n",
    "# Inputs:\n",
    "#   segmented_img = Segmented image to plot angles on\n",
    "#   objects       = List of contours\n",
    "#   label         = Optional label parameter, modifies the variable name of observations recorded. (default `label=\"default\"`)filled_img = pcv.morphology.fill_segments(mask=cropped_mask, objects=edge_objects)\n",
    "\n",
    "labeled_img = pcv.morphology.segment_angle(segmented_img=segmented_img, \n",
    "                                           objects=leaf_obj)\n"
   ]
  },
  {
   "cell_type": "code",
   "execution_count": null,
   "metadata": {},
   "outputs": [],
   "source": [
    "# Measure the tangent angles of segments      \n",
    "\n",
    "# Inputs:\n",
    "#   segmented_img = Segmented image to plot tangent angles on\n",
    "#   objects       = List of contours\n",
    "#   size          = Size of ends used to calculate \"tangent\" lines\n",
    "#   label         = Optional label parameter, modifies the variable name of observations recorded. (default `label=\"default\"`)filled_img = pcv.morphology.fill_segments(mask=cropped_mask, objects=edge_objects)\n",
    "\n",
    "labeled_img = pcv.morphology.segment_tangent_angle(segmented_img=segmented_img, \n",
    "                                                   objects=leaf_obj, size=15)\n"
   ]
  },
  {
   "cell_type": "code",
   "execution_count": null,
   "metadata": {},
   "outputs": [],
   "source": [
    "# Measure the leaf insertion angles      \n",
    "\n",
    "# Inputs:\n",
    "#   skel_img         = Skeletonize image \n",
    "#   segmented_img    = Segmented image to plot insertion angles on\n",
    "#   leaf_objects     = List of leaf contours\n",
    "#   stem_objects     = List of stem objects \n",
    "#   size             = Size of the inner portion of each leaf to find a linear regression line\n",
    "#   label            = Optional label parameter, modifies the variable name of observations recorded. (default `label=\"default\"`)filled_img = pcv.morphology.fill_segments(mask=cropped_mask, objects=edge_objects)\n",
    "\n",
    "labeled_img = pcv.morphology.segment_insertion_angle(skel_img=skeleton,\n",
    "                                                     segmented_img=segmented_img, \n",
    "                                                     leaf_objects=leaf_obj, \n",
    "                                                     stem_objects=stem_obj,\n",
    "                                                     size=20)\n"
   ]
  },
  {
   "cell_type": "code",
   "execution_count": null,
   "metadata": {},
   "outputs": [],
   "source": [
    "# Write morphological data to results file\n",
    "\n",
    "# The save results function will take the measurements stored when running any PlantCV analysis functions, format, \n",
    "# and print an output text file for data analysis. The Outputs class stores data whenever any of the following functions\n",
    "# are ran: analyze_bound_horizontal, analyze_bound_vertical, analyze_color, analyze_nir_intensity, analyze_object, \n",
    "# fluor_fvfm, report_size_marker_area, watershed. If no functions have been run, it will print an empty text file \n",
    "pcv.outputs.save_results(filename=args.result)\n"
   ]
  },
  {
   "cell_type": "markdown",
   "metadata": {},
   "source": [
    "To view and/or download the text file output (saved in JSON format)...\n",
    "1) To see the text file with data that got saved out, click “File” tab in top left corner.\n",
    "2) Click “Open…”\n",
    "3) Click on the file named “morphology_tutorial_results.txt”\n",
    "\n",
    "Check out documentation on how to [convert JSON](https://plantcv.readthedocs.io/en/latest/tools/#convert-output-json-data-files-to-csv-tables) format output into table formatted output. Depending on the analysis steps a PlantCV user may have two CSV files (single value traits and multivalue traits). \n"
   ]
  },
  {
   "cell_type": "code",
   "execution_count": null,
   "metadata": {},
   "outputs": [],
   "source": []
  }
 ],
 "metadata": {
  "kernelspec": {
   "display_name": "Python 2",
   "language": "python",
   "name": "python2"
  },
  "language_info": {
   "codemirror_mode": {
    "name": "ipython",
    "version": 2
   },
   "file_extension": ".py",
   "mimetype": "text/x-python",
   "name": "python",
   "nbconvert_exporter": "python",
   "pygments_lexer": "ipython2",
   "version": "2.7.6"
  }
 },
 "nbformat": 4,
 "nbformat_minor": 0
}
