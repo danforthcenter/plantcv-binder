{
 "cells": [
  {
   "cell_type": "markdown",
   "metadata": {
    "collapsed": true
   },
   "source": [
    "# Color Correction Tutorial \n",
    "\n",
    "The color correction module has been developed as a method of normalizing image-based data sets for more accurate image analysis. For simple input and output, a helper function [plantcv.transform.correct_color](https://plantcv.readthedocs.io/en/latest/transform_correct_color/) was developed. We will use the function in the tutorial below but feel free to look at the documentation for more details on the steps that take place within the `pcv.transform.correct_color` function. \n",
    "\n",
    "**Conditions**\n",
    "\n",
    "To run color correction on an image, the following are needed:\n",
    "\n",
    "* Target and source images must contain a reference from which color values are sampled. The following example uses a 24-color Colorchecker passport.\n",
    "\n",
    "* A target image (RGB) must be chosen. This image will be of the color profile to which other images will be corrected.\n",
    "\n",
    "* A source image (RGB), that will be corrected to the target image's color profile\n",
    "\n",
    "* A mask (gray-scale) of the target image in which background has value 0, and color chips from the colorchecker are labeled with unique values greater than zero, but less than 255.\n",
    "\n",
    "* A mask (gray-scale) of the source image labeled consistently with the target image's mask.\n"
   ]
  },
  {
   "cell_type": "code",
   "execution_count": null,
   "metadata": {},
   "outputs": [],
   "source": [
    "from plantcv import plantcv as pcv\n"
   ]
  },
  {
   "cell_type": "code",
   "execution_count": null,
   "metadata": {},
   "outputs": [],
   "source": [
    "class options:\n",
    "    def __init__(self):\n",
    "        self.debug = \"plot\"\n",
    "        self.writeimg= False\n",
    "        self.result = \"color_tutorial_results.json\"\n",
    "        self.outdir = \".\"\n",
    "        \n",
    "# Get options\n",
    "args = options()\n",
    "\n",
    "# Set debug to the global parameter \n",
    "pcv.params.debug = args.debug\n"
   ]
  },
  {
   "cell_type": "code",
   "execution_count": null,
   "metadata": {},
   "outputs": [],
   "source": [
    "# Read in source and target images \n",
    "\n",
    "# Inputs:\n",
    "#   filename - Image file to be read in \n",
    "#   mode - Return mode of image; either 'native' (default), 'rgb', 'gray', or 'csv' \n",
    "target_img, t_path, t_filename = pcv.readimage(filename=\"img/tutorial_images/color_correct/target_image.jpg\")\n",
    "source_img, s_path, s_filename = pcv.readimage(filename=\"img/tutorial_images/color_correct/source1_img.jpg\")\n"
   ]
  },
  {
   "cell_type": "markdown",
   "metadata": {},
   "source": [
    "### Complete Color Card "
   ]
  },
  {
   "cell_type": "code",
   "execution_count": null,
   "metadata": {},
   "outputs": [],
   "source": [
    "# Create a labeled color card mask, first use color card finder function \n",
    "\n",
    "# This won't print anything out but you can look at the dataframe output \n",
    "# to see the chips that the function found. \n",
    "\n",
    "# Inputs:\n",
    "#   rgb_img - RGB image data containing color card \n",
    "#   threshold - Optional threshold method; either 'adaptgauss' (default), 'normal', or 'otsu'\n",
    "#   threshvalue - Optional threhsolding value (default threshvalue = 125) \n",
    "#   blurry - Optional boolean; False (default) or if True then image sharpening is applied \n",
    "#   background - Optional type of image background; 'dark' (default) or 'light'\n",
    "dataframe1, start, space = pcv.transform.find_color_card(rgb_img=target_img, background='light')\n"
   ]
  },
  {
   "cell_type": "code",
   "execution_count": null,
   "metadata": {},
   "outputs": [],
   "source": [
    "# Make the labeled mask of the target image \n",
    "\n",
    "# Inputs: \n",
    "#   rgb_img - RGB image data containing color card \n",
    "#   radius - Radius of color card chips (masks make circles on chips)\n",
    "#   start_coord - Two-element tuple of the first chip mask, (starting x, starting y) \n",
    "#   spacing - Two-element tuple of the horizontal and vertical spacing between chip masks\n",
    "#   nrows - Number of chip rows\n",
    "#   ncols - Number of chip columns \n",
    "#   exclude - Optional list of chips to exclude. List largest to smallest index \n",
    "target_mask = pcv.transform.create_color_card_mask(target_img, radius=15, start_coord=start, \n",
    "                                                   spacing=space, nrows=6, ncols=4)\n"
   ]
  },
  {
   "cell_type": "code",
   "execution_count": null,
   "metadata": {},
   "outputs": [],
   "source": [
    "# Our color card chip appears to be in relatively the same position in both the source and target images \n",
    "# Try using the same parameters and check to make sure it's appropriate for the source image\n",
    "\n",
    "source_mask = pcv.transform.create_color_card_mask(source_img, radius=10, start_coord=start, \n",
    "                                                   spacing=space, nrows=6, ncols=4)\n"
   ]
  },
  {
   "cell_type": "code",
   "execution_count": null,
   "metadata": {},
   "outputs": [],
   "source": [
    "# Run color correction \n",
    "\n",
    "# Inputs:\n",
    "#   target_img - RGB image with color chips\n",
    "#   target_mask - Grayscale image with color chips and background each represented with unique values \n",
    "#   source_img - RGB image with color chips \n",
    "#   source_mask - Grayscale image with color chips and background each represented with unique values \n",
    "#   output_directory - File path to which the target_matrix, source_matrix, and tranformation_matrix will be saved\n",
    "tm, sm, transformation_matrix, corrected_img = pcv.transform.correct_color(target_img=target_img, \n",
    "                                                                           target_mask=target_mask, \n",
    "                                                                           source_img=source_img, \n",
    "                                                                           source_mask=source_mask, \n",
    "                                                                           output_directory=args.outdir)\n"
   ]
  },
  {
   "cell_type": "code",
   "execution_count": null,
   "metadata": {},
   "outputs": [],
   "source": [
    "# If needed, you can save and load matrices.\n",
    "\n",
    "# Inputs:\n",
    "#   matrix - A numpy.matrix or numpy.ndarray\n",
    "#   filename - Name of a file to which matrix will be saved. Must\n",
    "#              end in .npz\n",
    "pcv.transform.save_matrix(matrix=tm, filename='target_matrix.npz')\n"
   ]
  },
  {
   "cell_type": "markdown",
   "metadata": {},
   "source": [
    "### Incomplete Color Card \n",
    "\n",
    "Sometimes color cards are not fully in frame. Sometimes specific lighting conditions and camera settings will lead to specific color card chips being over/under saturated which will likely affect color correction. We can exclude color card chips to attempt to salvage these types of images. "
   ]
  },
  {
   "cell_type": "code",
   "execution_count": null,
   "metadata": {},
   "outputs": [],
   "source": [
    "# Read in source and target images in which only part of the color card is in frame \n",
    "\n",
    "# Inputs:\n",
    "#   filename - Image file to be read in \n",
    "#   mode - Return mode of image; either 'native' (default), 'rgb', or 'gray' \n",
    "target_img_partial, tp_path, tp_filename = pcv.readimage(filename=\"img/tutorial_images/color_correct/target_image_partial.jpg\")\n",
    "source_img_partial, sp_path, sp_filename = pcv.readimage(filename=\"img/tutorial_images/color_correct/source1_img_partial.jpg\")\n"
   ]
  },
  {
   "cell_type": "code",
   "execution_count": null,
   "metadata": {},
   "outputs": [],
   "source": [
    "# Shift the target image slightly so that partial color card chips\n",
    "# don't get detected \n",
    "\n",
    "# Inputs:\n",
    "#   img    = image object\n",
    "#   number = integer, number of pixels to move image\n",
    "#   side   = direction to move from \"top\", \"bottom\", \"right\",\"left\"\n",
    "target_img_partial = pcv.shift_img(img=target_img_partial, number=60, side='top')\n"
   ]
  },
  {
   "cell_type": "code",
   "execution_count": null,
   "metadata": {},
   "outputs": [],
   "source": [
    "# Since our top right color chip is still in frame we can still automatically \n",
    "# detect the color card. Start with the partial target image.\n",
    "\n",
    "# Inputs:\n",
    "#   rgb_img - RGB image data containing color card \n",
    "#   threshold - Optional threshold method; either 'adaptgauss' (default), 'normal', or 'otsu'\n",
    "#   threshvalue - Optional threhsolding value (default threshvalue = 125) \n",
    "#   blurry - Optional boolean; False (default) or if True then image sharpening is applied \n",
    "#   background - Optional type of image background; 'dark' (default) or 'light'\n",
    "dataframe_tp, start_tp, space_tp = pcv.transform.find_color_card(rgb_img=target_img_partial, background='light')\n"
   ]
  },
  {
   "cell_type": "code",
   "execution_count": null,
   "metadata": {},
   "outputs": [],
   "source": [
    "# Next do the same with the source image \n",
    "\n",
    "dataframe_sp, start_sp, space_sp = pcv.transform.find_color_card(rgb_img=source_img_partial, background='light')\n"
   ]
  },
  {
   "cell_type": "code",
   "execution_count": null,
   "metadata": {},
   "outputs": [],
   "source": [
    "# Create labeled masks for each image \n",
    "# Compared to the previous example, where the whole color card was in \n",
    "# frame, this time we only have 5 complete rows of color card chips\n",
    "# so 'nrows' gets updated \n",
    "\n",
    "mask_tp = pcv.transform.create_color_card_mask(rgb_img=target_img_partial, radius=10, \n",
    "                                               start_coord=start_tp, spacing=space_tp, nrows=5, ncols=4)\n",
    "mask_sp = pcv.transform.create_color_card_mask(rgb_img=source_img_partial, radius=10, \n",
    "                                               start_coord=start_sp, spacing=space_sp, nrows=5, ncols=4)\n"
   ]
  },
  {
   "cell_type": "markdown",
   "metadata": {},
   "source": [
    "Although the color card mask regions of interest are not overlapping \n",
    "with the edges of the color chips, we can adjust the spacing of the target mask.\n",
    "Color cards that are slightly tilted are likely to need adjustment \n",
    "either in spacing or the starting coordinates if using the \n",
    "[pcv.transform.find_color_card](https://plantcv.readthedocs.io/en/latest/transform_correct_color/#automatically-find-a-color-card) function, as this \n",
    "function currently has some limitations. "
   ]
  },
  {
   "cell_type": "code",
   "execution_count": null,
   "metadata": {},
   "outputs": [],
   "source": [
    "# pcv.find_color_card isoptimized for 4X6 (or 6X4) color cards, so we can adjust spacing. \n",
    "# Adjust the target image mask \n",
    "\n",
    "mask_tp = pcv.transform.create_color_card_mask(rgb_img=target_img_partial, radius=10, \n",
    "                                               start_coord=start_tp, spacing=(195,195), nrows=5, ncols=4)\n"
   ]
  },
  {
   "cell_type": "code",
   "execution_count": null,
   "metadata": {},
   "outputs": [],
   "source": [
    "tmp, smp, transformation_matrix_p, corrected_img_p = pcv.transform.correct_color(target_img=target_img_partial, \n",
    "                                                                              target_mask=mask_tp, \n",
    "                                                                              source_img=source_img_partial, \n",
    "                                                                              source_mask=mask_sp, \n",
    "                                                                              output_directory=args.outdir)\n"
   ]
  },
  {
   "cell_type": "code",
   "execution_count": null,
   "metadata": {},
   "outputs": [],
   "source": [
    "# There's a good chance the white chip of the color card will be \n",
    "# fully saturated, which could potentially cause strange things \n",
    "# to happen. So to exclude this color chip we can just input \n",
    "# exclude = [0] into the pcv.transform.create_color_card_mask\n",
    "# function (since the white chip is in the top left corner for \n",
    "# our example). \n",
    "\n",
    "mask_exclude_t = pcv.transform.create_color_card_mask(target_img_partial, radius=10, \n",
    "                                                      start_coord=start_tp, spacing=(195,195), \n",
    "                                                      nrows=5, ncols=4, exclude=[0])\n",
    "mask_exclude_s = pcv.transform.create_color_card_mask(source_img_partial, radius=10, \n",
    "                                                      start_coord=start_sp, spacing=space_sp, \n",
    "                                                      nrows=5, ncols=4, exclude=[0])\n"
   ]
  },
  {
   "cell_type": "markdown",
   "metadata": {},
   "source": [
    "### Checking for Problematic Color Card Chips \n",
    "\n",
    "We have added a function to quickly check for problematic color card chips. \n",
    "The relationship between RGB values in the source image and the target image should be extremely linearly related. \n",
    "Plots are labeled with the chip numbers in order to help determine problematic. See the [static PlantCV documentation](https://plantcv.readthedocs.io/en/latest/transform_color_correction_tutorial/#checking-the-color-card-chips)\n",
    "for some different examples of \"bad\" color card chips and what they mean. \n"
   ]
  },
  {
   "cell_type": "code",
   "execution_count": null,
   "metadata": {},
   "outputs": [],
   "source": [
    "from plotnine import *\n"
   ]
  },
  {
   "cell_type": "code",
   "execution_count": null,
   "metadata": {},
   "outputs": [],
   "source": [
    "# We can plot use the transformation matrices we already made in the first example.\n",
    "# Feel free to upload your own images with color cards, create color card masks,\n",
    "# and check the relationship between chips.\n",
    "\n",
    "# Inputs: \n",
    "#   source_matrix - A matrix containing the average red value, green value, blue value \n",
    "#                   for each color chip of the source image (comes from the output of \n",
    "#                   pcv.transform.correct_color function)\n",
    "#   target_matrix - Matrix of color values for each color chip of the target image \n",
    "#   num_chips - The number of color card chips included in the matrices\n",
    "pcv.transform.quick_color_check(source_matrix=sm, target_matrix=tm, num_chips=24)\n"
   ]
  },
  {
   "cell_type": "markdown",
   "metadata": {},
   "source": [
    "We can see in the red channel that chip number 13 is not following the linear trend very closely. If you need to examine chip numbers more closely, try using the `%matplotlib notebook` option and zoom to rectangle tool to zoom in on areas of interest. "
   ]
  },
  {
   "cell_type": "code",
   "execution_count": null,
   "metadata": {},
   "outputs": [],
   "source": [
    "%matplotlib notebook \n",
    "\n",
    "pcv.transform.quick_color_check(source_matrix=sm, target_matrix=tm, num_chips=24)\n"
   ]
  }
 ],
 "metadata": {
  "kernelspec": {
   "display_name": "Python 2",
   "language": "python",
   "name": "python2"
  },
  "language_info": {
   "codemirror_mode": {
    "name": "ipython",
    "version": 2
   },
   "file_extension": ".py",
   "mimetype": "text/x-python",
   "name": "python",
   "nbconvert_exporter": "python",
   "pygments_lexer": "ipython2",
   "version": "2.7.6"
  }
 },
 "nbformat": 4,
 "nbformat_minor": 0
}
