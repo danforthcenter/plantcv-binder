{
 "cells": [
  {
   "cell_type": "markdown",
   "metadata": {
    "collapsed": true
   },
   "source": [
    "# Threshold Tools \n",
    "\n",
    " A single channel of an image is selected for either binary thresholding or auto thresholding (Gaussian, mean, Otsu, or triangle). For a color image, selecting a channel of an image for thresholding likely involves conversion from RGB to HSV or LAB color space, then selecting Hue, Saturation, Value, Lightness, Green-Magenta, or Blue-Yellow channels. It's best to select a channel that maximizes contrast between the target object and the background. When thresholding an image to segment a target object, it may not be possible to isolate just the target object. Multiple thresholding steps on various channels may be necessary as well as downstream noise reduction steps. For an example of this approach see the [VIS tutorial](vis_tutorial.ipynb)."
   ]
  },
  {
   "cell_type": "code",
   "execution_count": null,
   "metadata": {},
   "outputs": [],
   "source": [
    "# Import libraries \n",
    "from plantcv import plantcv as pcv\n"
   ]
  },
  {
   "cell_type": "code",
   "execution_count": null,
   "metadata": {},
   "outputs": [],
   "source": [
    "class options:\n",
    "    def __init__(self):\n",
    "        self.image = \"img/tutorial_images/vis/original_image.jpg\"\n",
    "        self.debug = \"plot\"\n",
    "        self.writeimg= False\n",
    "        self.outdir = \".\"\n",
    "        \n",
    "# Get options\n",
    "args = options()\n",
    "\n",
    "# Set debug to the global parameter \n",
    "pcv.params.debug = args.debug\n",
    "\n",
    "# Read image\n",
    "\n",
    "# Inputs:\n",
    "#   filename - Image file to be read in \n",
    "#   mode - How to read in the image; either 'native' (default), 'rgb', 'gray', or 'csv'\n",
    "img, path, filename = pcv.readimage(filename=args.image)\n"
   ]
  },
  {
   "cell_type": "markdown",
   "metadata": {},
   "source": [
    "Each of the threshold methods take grayscale image data, and there are a few different ways to transform a color image into a gray color space. Examples of `rgb2gray_lab` and `rgb2gray_hsv` (and the way that multiple color spaces can be combined to further reduce noise) can be found in the [VIS tutorial](vis_tutorial.ipynb) and the [VIS/NIR tutorial](vis_nir_tutorial.ipynb). "
   ]
  },
  {
   "cell_type": "code",
   "execution_count": null,
   "metadata": {},
   "outputs": [],
   "source": [
    "# Convert the RGB img to grayscale \n",
    "\n",
    "# Inputs:\n",
    "#   rgb_img - RGB image data \n",
    "gray_img = pcv.rgb2gray(rgb_img=img)\n",
    "\n",
    "# There isn't a lot of contrast between the plant and background, so we can use \n",
    "# the blue-yellow channel. Feel free to try other channels and/or upload your\n",
    "# own images! \n",
    "\n",
    "# Inputs:\n",
    "#    rgb_img = image object, RGB color space\n",
    "#    channel = color subchannel ('l' = lightness, 'a' = green-magenta , 'b' = blue-yellow)\n",
    "gray_img_b = pcv.rgb2gray_lab(rgb_img=img, channel='b')\n"
   ]
  },
  {
   "cell_type": "code",
   "execution_count": null,
   "metadata": {},
   "outputs": [],
   "source": [
    "# Inputs:\n",
    "#    rgb_img = image object, RGB color space\n",
    "#    channel = color subchannel ['c' (cyan), 'm' (magenta), 'y' (yellow) or 'k' (black)]\n",
    "l_channel = pcv.rgb2gray_cmyk(rgb_img=img, channel='Y')\n"
   ]
  },
  {
   "cell_type": "code",
   "execution_count": null,
   "metadata": {},
   "outputs": [],
   "source": [
    "# Plot a histogram to help inform a reasonable threshold value \n",
    "\n",
    "# Inputs:\n",
    "#   gray_img - Grayscale image to analyze \n",
    "#   mask - An optional binary mask made from selected contours, default mask=None \n",
    "#   bins - Number of classes to divide the spectrum into, default bins=256\n",
    "#   color - Color of line drawn (default color='red') \n",
    "#   title - cusctom title for the plot gets drawn if title is not None (default) \n",
    "hist_figure = pcv.visualize.histogram(gray_img=gray_img_b, mask=None, bins=256)\n"
   ]
  },
  {
   "cell_type": "code",
   "execution_count": null,
   "metadata": {},
   "outputs": [],
   "source": [
    "# Create a binary image based on a threshold value \n",
    "\n",
    "# Inputs:\n",
    "#   gray_img - Grayscale image data \n",
    "#   threhold - Threshold value (0-255), cutoff point for thresholding \n",
    "#   max_value - Value to apply above the threshold (255 = white)\n",
    "#   object_type - 'light' (default) or 'dark', if the object is lighter than the \n",
    "#                 background then standard threholding is done, but if darker than\n",
    "#                 background then inverse thresholding is done. \n",
    "binary_thresh1 = pcv.threshold.binary(gray_img=gray_img_b, threshold=150, max_value=255, \n",
    "                                      object_type='light')\n"
   ]
  },
  {
   "cell_type": "code",
   "execution_count": null,
   "metadata": {},
   "outputs": [],
   "source": [
    "# Too much background got picked up. Try a higher threshold value. \n",
    "binary_thresh2 = pcv.threshold.binary(gray_img=gray_img_b, threshold=160, max_value=255, \n",
    "                                      object_type='light')\n"
   ]
  },
  {
   "cell_type": "code",
   "execution_count": null,
   "metadata": {},
   "outputs": [],
   "source": [
    "# Create a binary image using multiple channels \n",
    "\n",
    "# Inputs:\n",
    "#   rgb_img - RGB image data \n",
    "#   lower_thresh - Lower threshold values\n",
    "#   upper_thresh - List of upper threshold values\n",
    "#   channel - Color-space channels of interest (either 'RGB', 'HSV', 'LAB', or 'gray')\n",
    "mask, masked_img = pcv.threshold.custom_range(img=img, lower_thresh=[0,0,158], \n",
    "                                              upper_thresh=[255,255,255], channel='LAB')\n"
   ]
  },
  {
   "cell_type": "code",
   "execution_count": null,
   "metadata": {},
   "outputs": [],
   "source": [
    "# Create a binary image using the Gaussian adaptive thresholding method\n",
    "\n",
    "# Inputs:\n",
    "#   gray_img - Grayscale image data \n",
    "#   max_value - Value to apply above threshold (255 = white)\n",
    "#   object_type - 'light' (default) or 'dark', if the object is lighter than the \n",
    "#                 background then standard threholding is done, but if darker than\n",
    "#                 background then inverse thresholding is done. \n",
    "gauss_thresh1 = pcv.threshold.gaussian(gray_img=gray_img_b, max_value=255, object_type='dark')\n"
   ]
  },
  {
   "cell_type": "code",
   "execution_count": null,
   "metadata": {},
   "outputs": [],
   "source": [
    "# Quite a bit of the plant was missed so try another color channel \n",
    "gray_img_l = pcv.rgb2gray_lab(img, 'l')\n",
    "\n",
    "gauss_thresh2 = pcv.threshold.gaussian(gray_img_l, 255, 'dark')\n"
   ]
  },
  {
   "cell_type": "code",
   "execution_count": null,
   "metadata": {},
   "outputs": [],
   "source": [
    "# Create a binary image using the mean adaptive thresholding method \n",
    "\n",
    "# Inputs:\n",
    "#   gray_img - Grayscale image data \n",
    "#   max_value - Value to apply above threshold (255 = white)\n",
    "#   object_type - 'light' (default) or 'dark', if the object is lighter than the \n",
    "#                 background then standard threholding is done, but if darker than\n",
    "#                 background then inverse thresholding is done. \n",
    "mean_thresh = pcv.threshold.mean(gray_img=gray_img_l, max_value=255, object_type='dark')\n"
   ]
  },
  {
   "cell_type": "code",
   "execution_count": null,
   "metadata": {},
   "outputs": [],
   "source": [
    "# Create a binary image using Otsu's method \n",
    "\n",
    "# Inputs:\n",
    "#   gray_img - Grayscale image data \n",
    "#   max_value - Value to apply above threshold (255 = white)\n",
    "#   object_type - 'light' (default) or 'dark', if the object is lighter than the \n",
    "#                 background then standard threholding is done, but if darker than\n",
    "#                 background then inverse thresholding is done. \n",
    "otsu_thresh1 = pcv.threshold.otsu(gray_img=gray_img_b, max_value=255, object_type='dark')\n"
   ]
  },
  {
   "cell_type": "code",
   "execution_count": null,
   "metadata": {},
   "outputs": [],
   "source": [
    "# The plant container and table it's sitting got picked up but the plant didn't.\n",
    "# Try the green-magenta channel instead\n",
    "gray_img_a = pcv.rgb2gray_lab(img, 'a')\n",
    "\n",
    "otsu_thresh2 = pcv.threshold.otsu(gray_img_a, 255, 'dark')\n"
   ]
  },
  {
   "cell_type": "code",
   "execution_count": null,
   "metadata": {},
   "outputs": [],
   "source": [
    "# Create a binary image using adaptive thresholding\n",
    "\n",
    "# Inputs:\n",
    "#   gray_img - Grayscale image data \n",
    "#   max_value - Value to apply above threshold (255 = white)\n",
    "#   object_type - 'light' (default) or 'dark', if the object is lighter than the \n",
    "#                 background then standard threholding is done, but if darker than\n",
    "#                 background then inverse thresholding is done. \n",
    "#   xstep - Value to move along the x-axis to determine the points from which to \n",
    "#           calculate distance (recommended to start at 1, the default, and change \n",
    "#           if needed) \n",
    "triangle_thresh = pcv.threshold.triangle(gray_img=gray_img_l, max_value=255, \n",
    "                                         object_type='dark', xstep=1)\n"
   ]
  },
  {
   "cell_type": "code",
   "execution_count": null,
   "metadata": {},
   "outputs": [],
   "source": [
    "# Although not exactly like the rest of the thresholding functions, there is also an edge detection \n",
    "# function that can be used on RGB and grayscale images\n",
    "\n",
    "# Inputs: \n",
    "#   img - RGB or grayscale image data\n",
    "#   sigma - Optional standard deviation of the Gaussian filter\n",
    "#   low_thresh - Optional lower bound for hysteresis thresholding (linking edges). If None (default) \n",
    "#                then low_thresh is set to 10% of the image's max\n",
    "#   high_thresh - Optional upper bound for hysteresis thresholding (linking edges). If None (default)\n",
    "#                 then high_thresh is set to 20% of the image's max\n",
    "#   thickness - Optional integer thickness of the edges, default thickness=1\n",
    "#   mask - Optional mask to limit the application of Canny to a certain area, takes a binary img.\n",
    "#   mask_color - Color of the mask provided; either None (default), 'white', or 'black' (cannot be None \n",
    "#                if mask is provided)\n",
    "#   use_quantiles - Default is False, if True then treat low_thresh and high_thresh as quantiles of the edge magnitude\n",
    "#                   image, rather than the absolute edge magnitude values. If True then thresholds must be \n",
    "#                   within the range `[0, 1]`.\n",
    "\n",
    "# Use function defaults \n",
    "edges = pcv.canny_edge_detect(img=img)\n",
    "\n"
   ]
  },
  {
   "cell_type": "code",
   "execution_count": null,
   "metadata": {},
   "outputs": [],
   "source": [
    "# sigma=2\n",
    "edges2 = pcv.canny_edge_detect(img=img, sigma=2)\n"
   ]
  },
  {
   "cell_type": "code",
   "execution_count": null,
   "metadata": {},
   "outputs": [],
   "source": [
    "# Lower sigma value to pick up more edges\n",
    "\n",
    "\n",
    "edges3 = pcv.canny_edge_detect(img=img, sigma=.1)\n"
   ]
  },
  {
   "cell_type": "code",
   "execution_count": null,
   "metadata": {},
   "outputs": [],
   "source": [
    "# Create a mask\n",
    "\n",
    "# Inputs\"\n",
    "#   img - RGB or grayscale image data\n",
    "#   p1 - Point at the top left corner of rectangle, (0,0) is top left corner (tuple)\n",
    "#   p2 - Point at the bottom right corner of rectangle (max-value(x),max-value(y)) is bottom right corner (tuple)\n",
    "#   color - \"black\", \"gray\",\"white\", default is \"black\". This acts to select (mask) \n",
    "#           area from object capture (need to invert to remove).\n",
    "masked, bin_img, rect_contour, hierarchy = pcv.rectangle_mask(img=img, p1=(65, 50), p2=(300,350), color='black')\n",
    "\n"
   ]
  },
  {
   "cell_type": "code",
   "execution_count": null,
   "metadata": {},
   "outputs": [],
   "source": [
    "# Find edges within a mask\n",
    "edges4 = pcv.canny_edge_detect(img=img, mask=bin_img, mask_color='black')\n"
   ]
  },
  {
   "cell_type": "code",
   "execution_count": null,
   "metadata": {},
   "outputs": [],
   "source": [
    "\n"
   ]
  }
 ],
 "metadata": {
  "kernelspec": {
   "display_name": "Python 2",
   "language": "python",
   "name": "python2"
  },
  "language_info": {
   "codemirror_mode": {
    "name": "ipython",
    "version": 2
   },
   "file_extension": ".py",
   "mimetype": "text/x-python",
   "name": "python",
   "nbconvert_exporter": "python",
   "pygments_lexer": "ipython2",
   "version": "2.7.6"
  }
 },
 "nbformat": 4,
 "nbformat_minor": 0
}
