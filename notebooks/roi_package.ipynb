{
 "cells": [
  {
   "cell_type": "markdown",
   "metadata": {
    "collapsed": true
   },
   "source": [
    "# Region of Interest Tools \n",
    "\n",
    "To further isolate an object from surrounding background a region of interest can be used to select the region of the image that contains the target object. To do this you first detect all the objects in the image using the `find_objects` function, then define the region of interest, then determine if the objects are within, touching, or outside of the region of interest with the `roi_objects` function. The examples below show how to define regions of interest. See examples of how to use `find_objects` and `roi_objects` in the [multi-plant](multi_plant_tutorial.ipynb), [NIR](nir_tutorial.ipynb), [PSII](psII_tutorial.ipynb), [VIS](vis_tutorial.ipynb), and [VIS/NIR](vis_nir_tutorial.ipynb) tutorials. \n"
   ]
  },
  {
   "cell_type": "code",
   "execution_count": null,
   "metadata": {},
   "outputs": [],
   "source": [
    "from plantcv import plantcv as pcv\n",
    "import cv2\n"
   ]
  },
  {
   "cell_type": "code",
   "execution_count": null,
   "metadata": {},
   "outputs": [],
   "source": [
    "class options:\n",
    "    def __init__(self):\n",
    "        self.image = \"img/tutorial_images/roi/original_image.jpg\"\n",
    "        self.debug = \"plot\"\n",
    "        self.writeimg= False\n",
    "        self.outdir = \".\"\n",
    "        \n",
    "# Get options\n",
    "args = options()\n",
    "\n",
    "# Set debug to the global parameter \n",
    "pcv.params.debug = args.debug\n",
    "\n",
    "# Read image\n",
    "\n",
    "# Inputs:\n",
    "#   filename - Image file to be read in \n",
    "#   mode - Return mode of image; either 'native' (default), 'rgb', 'gray', or 'csv' \n",
    "img, path, filename = pcv.readimage(filename=args.image)\n"
   ]
  },
  {
   "cell_type": "code",
   "execution_count": null,
   "metadata": {},
   "outputs": [],
   "source": [
    "# Define a rectangular ROI \n",
    "\n",
    "# Inputs: \n",
    "#   img - RGB or grayscale image to plot the ROI on \n",
    "#   x - The x-coordinate of the upper left corner of the rectangle \n",
    "#   y - The y-coordinate of the upper left corner of the rectangle \n",
    "#   h - The height of the rectangle \n",
    "#   w - The width of the rectangle \n",
    "rect_contour, rect_hierarchy = pcv.roi.rectangle(img=img, x=100, y=100, h=250, w=170)\n"
   ]
  },
  {
   "cell_type": "code",
   "execution_count": null,
   "metadata": {},
   "outputs": [],
   "source": [
    "# Define a circular ROI \n",
    "\n",
    "# Inputs:\n",
    "#   img - RGB or grayscale image to plot the ROI on \n",
    "#   x - The x-coordinate of the center of the circle \n",
    "#   y - The y-coordinate of the center of the circle\n",
    "#   r - The radius of the circle \n",
    "circle_contour, circle_hierarchy = pcv.roi.circle(img=img, x=200, y=210, r=140)\n"
   ]
  },
  {
   "cell_type": "code",
   "execution_count": null,
   "metadata": {},
   "outputs": [],
   "source": [
    "# Define an elliptical ROI \n",
    "\n",
    "# Inputs:\n",
    "#   img - RGB or grayscale image to plot the ROI on \n",
    "#   x - The x-coordinate of the center of the ellipse\n",
    "#   y - The y-coordinate of the center of the ellipse\n",
    "#   r1 - The radius of the major axis\n",
    "#   r2 - The radius of the minor axis \n",
    "#   angle - The angle of rotation in degrees\n",
    "ellipse_contour, ellipse_hierarchy = pcv.roi.ellipse(img=img, x=170, y=200, r1=100, r2=140, angle=0)\n"
   ]
  },
  {
   "cell_type": "code",
   "execution_count": null,
   "metadata": {},
   "outputs": [],
   "source": [
    "# Make a custom polygon ROI\n",
    "\n",
    "# Inputs:\n",
    "#   img      - Input image data\n",
    "#   vertices - List of vertices that define the custom polygon (order matters) \n",
    "roi_contour, roi_hierarchy = pcv.roi.custom(img=img, \n",
    "                                            vertices=[[100,50], [200,75], \n",
    "                                            [300,245], [150,300], \n",
    "                                            [70,300], [80,95]])"
   ]
  },
  {
   "cell_type": "markdown",
   "metadata": {},
   "source": [
    "The last function currently in the ROI sub-package uses a binary image to create a region of interest. In the [NIR tutorial](nir_tutorial.ipynb) we used the `rectangle_mask` function to mask out background. If the background was consistent across images it might be quicker to save the mask and use the binary image as a region of interest. Below, we can make a binary image using the `rectangle_mask` function, but more complicated binary images can also be applied as regions of interest. \n"
   ]
  },
  {
   "cell_type": "code",
   "execution_count": null,
   "metadata": {},
   "outputs": [],
   "source": [
    "# Inputs:\n",
    "#   img - RGB or grayscale image data \n",
    "#   p1 - Point at the top left corner of the rectangle (tuple)\n",
    "#   p2 - Point at the bottom right corner of the rectangle (tuple) \n",
    "#   color 'black' (default), 'gray', or 'white'\n",
    "masked1, bin_img, rect_contour1, hierarchy1 = pcv.rectangle_mask(img=img, p1=(80,80), \n",
    "                                                                 p2=(300,350), color='white')\n"
   ]
  },
  {
   "cell_type": "code",
   "execution_count": null,
   "metadata": {},
   "outputs": [],
   "source": [
    "# Apply the binary image as a mask \n",
    "\n",
    "# Inputs:\n",
    "#   img - RGB or grayscale image to plot the ROI on \n",
    "#   bin_img - Binary image, the ROI contour will be identified from this image.\n",
    "bin_contour, bin_hierarchy = pcv.roi.from_binary_image(img=img, bin_img=bin_img)\n"
   ]
  },
  {
   "cell_type": "code",
   "execution_count": null,
   "metadata": {},
   "outputs": [],
   "source": [
    "# Read in an image to use with pcv.roi.multi \n",
    "multi_img, path, filename = pcv.readimage(filename=\"img/tutorial_images/multi_plant/original_image.jpg\")\n",
    "\n",
    "# Inputs:\n",
    "#   img    = image object\n",
    "#   number = integer, number of pixels to move image\n",
    "#   side   = direction to move from \"top\", \"bottom\", \"right\",\"left\"\n",
    "multi_img = pcv.shift_img(img=multi_img, number=40, side='top')\n",
    "\n"
   ]
  },
  {
   "cell_type": "code",
   "execution_count": null,
   "metadata": {},
   "outputs": [],
   "source": [
    "# Create multiple ROIs on the same image:  \n",
    "# Used to define multiple regions of interest in the same image. Users can either specify a\n",
    "# starting coordinate (`coord`), number of row and columns, and spacing to create a grid of ROIs,\n",
    "# or a custom list of coordinates that specify the centers of the ROIs. Providing a custom list \n",
    "# of coordinates (list of tuples) is useful for missing plants or any arrangement that isn't \n",
    "# a perfect grid. Returns lists of contours and hierarchies that can be used in downstream steps. \n",
    "\n",
    "#     Inputs\n",
    "#     img            = Input image data.\n",
    "#     coord          = Two-element tuple of the center of the top left object.\n",
    "#     radius         = Radius of ROIs.\n",
    "#     spacing        = Two-element tuple of the horizontal and vertical spacing between ROIs.\n",
    "#     nrows          = Number of rows in ROI layout.\n",
    "#     ncols          = Number of columns in ROI layout.\n",
    "\n",
    "# Make a grid of ROIs \n",
    "rois1, roi_hierarchy1 = pcv.roi.multi(multi_img, coord=(25,120), radius=20, spacing=(70, 70), nrows=3, ncols=6)\n",
    "\n",
    "# Specify a list of coordinates of desired ROIs \n",
    "rois2, roi_hierarchy2 = pcv.roi.multi(multi_img, coord=[(25,120), (165,260), (310, 260)], radius=20)\n"
   ]
  }
 ],
 "metadata": {
  "kernelspec": {
   "display_name": "Python 2",
   "language": "python",
   "name": "python2"
  },
  "language_info": {
   "codemirror_mode": {
    "name": "ipython",
    "version": 2
   },
   "file_extension": ".py",
   "mimetype": "text/x-python",
   "name": "python",
   "nbconvert_exporter": "python",
   "pygments_lexer": "ipython2",
   "version": "2.7.6"
  }
 },
 "nbformat": 4,
 "nbformat_minor": 0
}
