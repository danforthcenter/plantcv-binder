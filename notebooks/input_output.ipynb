{
 "cells": [
  {
   "cell_type": "markdown",
   "metadata": {
    "collapsed": true
   },
   "source": [
    "# Input/Output Tools \n",
    "\n"
   ]
  },
  {
   "cell_type": "code",
   "execution_count": null,
   "metadata": {},
   "outputs": [],
   "source": [
    "from plantcv import plantcv as pcv\n",
    "import numpy as np\n"
   ]
  },
  {
   "cell_type": "code",
   "execution_count": null,
   "metadata": {},
   "outputs": [],
   "source": [
    "# Throughout the other tutorials we use pcv.readimage to read in \n",
    "# RGB and grayscale images \n",
    "\n",
    "# Inputs \n",
    "#   filename - Image file to be read (possibly including a path) \n",
    "#   mode - Return mode of the image; either 'native' (default),\n",
    "#          'rgb', 'gray', or 'csv' \n",
    "\n",
    "img, path, filename = pcv.readimage(filename=\"img/tutorial_images/color_correct/target_image.jpg\")\n"
   ]
  },
  {
   "cell_type": "code",
   "execution_count": null,
   "metadata": {},
   "outputs": [],
   "source": [
    "# Notice that the image wasn't printed to the Jupyter notebook.\n",
    "# We haven't set the debug mode yet, and it defaults to None.\n",
    "# However, if each intermediate image isn't needed we can always \n",
    "# manually plot out images. \n",
    "pcv.plot_image(img)\n",
    "\n",
    "# Similarly, we can print specific images manually.\n",
    "pcv.print_image(img=img, filename='IO_img_example.jpg')\n"
   ]
  },
  {
   "cell_type": "code",
   "execution_count": null,
   "metadata": {},
   "outputs": [],
   "source": [
    "# Set debug to the global parameter \n",
    "pcv.params.debug = 'plot'\n",
    "img, path, filename = pcv.readimage(filename=\"img/tutorial_images/color_correct/target_image.jpg\")\n"
   ]
  },
  {
   "cell_type": "code",
   "execution_count": null,
   "metadata": {},
   "outputs": [],
   "source": [
    "# We can look at the shape of the image we read in. In this case\n",
    "# (2055, 2454, 3) means that the image has dimensions 2055x2424\n",
    "# and 3 color channels in the 3rd dimension \n",
    "np.shape(img)\n"
   ]
  },
  {
   "cell_type": "code",
   "execution_count": null,
   "metadata": {},
   "outputs": [],
   "source": [
    "# Read in as grayscale.\n",
    "\n",
    "img2, path2, filename2 = pcv.readimage(filename=\"img/tutorial_images/color_correct/target_image.jpg\", mode='gray')\n",
    "np.shape(img2)\n"
   ]
  },
  {
   "cell_type": "code",
   "execution_count": null,
   "metadata": {},
   "outputs": [],
   "source": [
    "# Read in a grayscale image \n",
    "\n",
    "img3, path3, filename3 = pcv.readimage(filename=\"img/tutorial_images/nir/original_image.jpg\")\n",
    "np.shape(img3)\n"
   ]
  },
  {
   "cell_type": "code",
   "execution_count": null,
   "metadata": {},
   "outputs": [],
   "source": [
    "# Read in grayscale image as RGB\n",
    "\n",
    "img4, path4, filename4 = pcv.readimage(filename=\"img/tutorial_images/nir/original_image.jpg\", mode='rgb')\n",
    "np.shape(img4)\n"
   ]
  },
  {
   "cell_type": "code",
   "execution_count": null,
   "metadata": {},
   "outputs": [],
   "source": [
    "# There is also a function specifically designed to read images \n",
    "# with Bayer mosaic pixel patterns and return a demosaicked image.\n",
    "\n",
    "# Inputs:\n",
    "#   filename - Image file to be read (possibly including a path)\n",
    "#   bayerpattern - Arrangement of the pixels. Often found by trail \n",
    "#                  and error. Either 'BG' (default), 'GB', 'RG', 'GR'\n",
    "#   alg - Algorithm with which to demosaic the image. Either 'default'\n",
    "#         'EdgeAware', 'VariableNumberGradients'. Not case sensitive. \n",
    "bayer_img = pcv.readbayer(filename=\"img/tutorial_images/in_out/bayer_img.png\")\n"
   ]
  },
  {
   "cell_type": "code",
   "execution_count": null,
   "metadata": {},
   "outputs": [],
   "source": [
    "# There is a plotting method that can be used to examine the    \n",
    "# distribution of signal within an image.\n",
    "# This will print out the histogram \n",
    "\n",
    "# Inputs:\n",
    "#   gray_img - Grayscale image data, the original image for analysis.\n",
    "#   mask - Optional binary mask made from selected contours (default mask=None)\n",
    "#   bins - Number of class to divide spectrum into (default bins=256) \n",
    "#   color - color of the line drawn\n",
    "#   title - custom title for the plot gets drawn if title is not None\n",
    "hist_figure = pcv.visualize.histogram(gray_img=img2)\n"
   ]
  },
  {
   "cell_type": "code",
   "execution_count": null,
   "metadata": {},
   "outputs": [],
   "source": [
    "# The print_results function will take the measurements stored when running any (or all) of these functions, format, \n",
    "# and print an output text file for data analysis. The Outputs class stores data whenever any of the following functions\n",
    "# are ran: analyze_bound_horizontal, analyze_bound_vertical, analyze_color, analyze_nir_intensity, analyze_object, \n",
    "# fluor_fvfm, report_size_marker_area, watershed. If no functions have been run, it will print an empty text file \n",
    "pcv.print_results(filename='test_pipeline_results.txt')\n",
    "pcv.outputs.save_results(filename=args.result)\n"
   ]
  }
 ],
 "metadata": {
  "kernelspec": {
   "display_name": "Python 2",
   "language": "python",
   "name": "python2"
  },
  "language_info": {
   "codemirror_mode": {
    "name": "ipython",
    "version": 2
   },
   "file_extension": ".py",
   "mimetype": "text/x-python",
   "name": "python",
   "nbconvert_exporter": "python",
   "pygments_lexer": "ipython2",
   "version": "2.7.6"
  }
 },
 "nbformat": 4,
 "nbformat_minor": 0
}
