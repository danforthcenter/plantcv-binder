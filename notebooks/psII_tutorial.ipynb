{
 "cells": [
  {
   "cell_type": "markdown",
   "metadata": {
    "collapsed": true
   },
   "source": [
    "# PSII Tutorial \n",
    "\n",
    "PSII images (3 in a set; F0, Fmin, and Fmax) are captured directly following a saturating fluorescence pulse \n",
    "(red light; 630 nm). These three PSII images can be used to calculate Fv/Fm (efficiency of photosystem II) \n",
    "for each pixel of the plant. Unfortunately, our PSII imaging cabinet has a design flaw when capturing images \n",
    "of plants with vertical architecture. You can read more about how we validated this flaw using our PSII \n",
    "analysis workflows in the [PlantCV Paper](http://dx.doi.org/10.1016/j.molp.2015.06.005).\n",
    "\n",
    "To run a PSII workflow over a single PSII image set (3 images) there are 4 required inputs:\n",
    "\n",
    "1.  **Image 1:** F0 (a.k.a Fdark/null) image.\n",
    "2.  **Image 2:** Fmin image.\n",
    "3.  **Image 3:** Fmax image. \n",
    "5.  **Output directory:** If debug mode is set to 'print' output images from each step are produced."
   ]
  },
  {
   "cell_type": "code",
   "execution_count": null,
   "metadata": {},
   "outputs": [],
   "source": [
    "# Import libraries \n",
    "from plantcv import plantcv as pcv\n",
    "import numpy as np\n",
    "import cv2\n"
   ]
  },
  {
   "cell_type": "code",
   "execution_count": null,
   "metadata": {},
   "outputs": [],
   "source": [
    "class options:\n",
    "    def __init__(self):\n",
    "        self.image = \"img/tutorial_images/psII/Fmax.jpg\"\n",
    "        self.debug = \"plot\"\n",
    "        self.writeimg= False \n",
    "        self.result = \"./psII_tutorial_results\"\n",
    "        self.outdir = \".\" # Store the output to the current directory\n",
    "\n",
    "# Get options\n",
    "args = options()\n",
    "\n",
    "# Set debug to the global parameter \n",
    "pcv.params.debug = args.debug\n"
   ]
  },
  {
   "cell_type": "code",
   "execution_count": null,
   "metadata": {},
   "outputs": [],
   "source": [
    "# Read image (converting fmax and track images to 8 bit just to create a mask, use 16-bit for all the math)\n",
    "\n",
    "# Inputs:\n",
    "#   filename - Image file to be read in \n",
    "#   mode - How to read in the image; either 'native' (default), 'rgb', 'gray', or 'csv'\n",
    "mask, path, filename = pcv.readimage(filename=args.image)\n",
    "\n",
    "# Read in track mask \n",
    "track = cv2.imread(\"img/tutorial_images/psII/mask.jpg\")\n",
    "\n",
    "# Make a copy of our image \n",
    "mask1 = np.copy(mask)\n"
   ]
  },
  {
   "cell_type": "markdown",
   "metadata": {},
   "source": [
    "We use a premade mask for the screw of the car that consistently give background signal, \n",
    "but this is not required. "
   ]
  },
  {
   "cell_type": "code",
   "execution_count": null,
   "metadata": {},
   "outputs": [],
   "source": [
    "# Mask the pesky track autofluor\n",
    "\n",
    "# Inputs:\n",
    "#   rgb_img - RGB image data \n",
    "#   channel - Split 'h' (hue), 's' (saturation), or 'v' (value) channel \n",
    "track1 = pcv.rgb2gray_hsv(rgb_img=track, channel='v')\n",
    "\n",
    "# Inputs:\n",
    "#   gray_img - Grayscale image data \n",
    "#   threshold- Threshold value (between 0-255)\n",
    "#   max_value - Value to apply above threshold (255 = white) \n",
    "#   object_type - 'light' (default) or 'dark'. If the object is lighter than the background then standard threshold is done.\n",
    "#                 If the object is darker than the background then inverse thresholding is done. \n",
    "track_thresh = pcv.threshold.binary(gray_img=track1, threshold=40, max_value=255, object_type='light')\n",
    "\n",
    "# Inputs:\n",
    "#   gray_img - Grayscale image data \n",
    "track_inv = pcv.invert(gray_img=track_thresh)\n",
    "\n",
    "# Inputs: \n",
    "#   rgb_img - RGB image data \n",
    "#   mask - Binary mask image data \n",
    "#   mask_color - 'black' or 'white'\n",
    "track_masked = pcv.apply_mask(rgb_img=mask1, mask=track_inv, mask_color='black')\n"
   ]
  },
  {
   "cell_type": "code",
   "execution_count": null,
   "metadata": {},
   "outputs": [],
   "source": [
    "# Threshold the image\n",
    "\n",
    "# Inputs: \n",
    "#   gray_img - Grayscale image data \n",
    "#   threshold - Threshold value (0-255)\n",
    "#   max_value - Value to apply above the threshold (255 = white)\n",
    "#   object_type - 'light' (default) or 'dark'. If the object is lighter than \n",
    "#                 the background then standard thresholding is done. If the \n",
    "#                 object is darker than the background then inverse thresholding. \n",
    "fmax_thresh = pcv.threshold.binary(gray_img=track_masked, threshold=20, max_value=255, \n",
    "                                   object_type='light')\n"
   ]
  },
  {
   "cell_type": "code",
   "execution_count": null,
   "metadata": {},
   "outputs": [],
   "source": [
    "# Median Filter\n",
    "\n",
    "# Inputs:\n",
    "#   gray_img - Grayscale image data \n",
    "#   ksize - Kernel size. Integer or tuple; (ksize, ksize) box if integer is input, \n",
    "#           (n, m) size box if tuple is given.\n",
    "s_mblur = pcv.median_blur(gray_img=fmax_thresh, ksize=5)\n"
   ]
  },
  {
   "cell_type": "code",
   "execution_count": null,
   "metadata": {},
   "outputs": [],
   "source": [
    "# Fill small objects\n",
    "\n",
    "# Inputs:\n",
    "#   bin_img - Binary image data \n",
    "#   size - Minimum object area size in pixels (integer), smaller objects get filled in. \n",
    "sfill_cnt = pcv.fill(bin_img=s_mblur, size=110)\n"
   ]
  },
  {
   "cell_type": "code",
   "execution_count": null,
   "metadata": {},
   "outputs": [],
   "source": [
    "# Identify objects\n",
    "\n",
    "# Inputs:\n",
    "#   img - RGB or grayscale image data for plotting\n",
    "#   mask - Binary mask used for detecting contours\n",
    "id_objects, obj_hierarchy = pcv.find_objects(img=mask, mask=sfill_cnt)\n"
   ]
  },
  {
   "cell_type": "code",
   "execution_count": null,
   "metadata": {},
   "outputs": [],
   "source": [
    "# Define Region of Interest (ROI) \n",
    "\n",
    "# Inputs: \n",
    "#   img - RGB or grayscale image to plot the ROI on \n",
    "#   x - The x-coordinate of the upper left corner of the rectangle \n",
    "#   y - The y-coordinate of the upper left corner of the rectangle \n",
    "#   h - The height of the rectangle \n",
    "#   w - The width of the rectangle \n",
    "roi1, roi_hierarchy = pcv.roi.rectangle(img=mask, x=100, y=100, h=150, w=150)\n"
   ]
  },
  {
   "cell_type": "code",
   "execution_count": null,
   "metadata": {},
   "outputs": [],
   "source": [
    "# Decide which objects to keep\n",
    "\n",
    "# Inputs:\n",
    "#    img            = img to display kept objects\n",
    "#    roi_contour    = contour of roi, output from any ROI function\n",
    "#    roi_hierarchy  = contour of roi, output from any ROI function\n",
    "#    object_contour = contours of objects, output from pcv.find_objects function\n",
    "#    obj_hierarchy  = hierarchy of objects, output from pcv.find_objects function\n",
    "#    roi_type       = 'partial' (default, for partially inside the ROI), 'cutto', or \n",
    "#                     'largest' (keep only largest contour)\n",
    "roi_objects, hierarchy3, kept_mask, obj_area = pcv.roi_objects(img=mask, roi_contour=roi1, \n",
    "                                                               roi_hierarchy=roi_hierarchy, \n",
    "                                                               object_contour=id_objects, \n",
    "                                                               obj_hierarchy=obj_hierarchy, \n",
    "                                                               roi_type='partial')\n"
   ]
  },
  {
   "cell_type": "code",
   "execution_count": null,
   "metadata": {},
   "outputs": [],
   "source": [
    "# Object combine kept objects\n",
    "\n",
    "# Use the object_composition function to outline the plant \n",
    "# Inputs:\n",
    "#   img - RGB or grayscale image data for plotting \n",
    "#   contours - Contour list \n",
    "#   hierarchy - Contour hierarchy array \n",
    "obj, masked = pcv.object_composition(img=mask, contours=roi_objects, hierarchy=hierarchy3)\n"
   ]
  },
  {
   "cell_type": "markdown",
   "metadata": {},
   "source": [
    "Now we can analyze the plant objects for traits such as shape, or PSII signal. "
   ]
  },
  {
   "cell_type": "code",
   "execution_count": null,
   "metadata": {},
   "outputs": [],
   "source": [
    "################ Analysis ################  \n",
    "\n",
    "# Find shape properties\n",
    "\n",
    "# Inputs:\n",
    "#   img - RGB or grayscale image data \n",
    "#   obj- Single or grouped contour object\n",
    "#   mask - Binary image mask to use as mask for moments analysis \n",
    "shape_img = pcv.analyze_object(img=mask, obj=obj, mask=masked)\n",
    "\n"
   ]
  },
  {
   "cell_type": "code",
   "execution_count": null,
   "metadata": {},
   "outputs": [],
   "source": [
    "# Fluorescence Measurement (read in 16-bit images)\n",
    "fdark, path_dark, file_dark = pcv.readimage(filename=\"img/tutorial_images/psII/Fdark.jpg\")\n",
    "fmin, path_min, file_min = pcv.readimage(filename=\"img/tutorial_images/psII/Fmin.jpg\")\n",
    "fmax, path_max, file_max = pcv.readimage(filename=\"img/tutorial_images/psII/Fmax.jpg\")\n"
   ]
  },
  {
   "cell_type": "code",
   "execution_count": null,
   "metadata": {},
   "outputs": [],
   "source": [
    "# Extract Fv/Fm data of objects and produce pseudocolored images \n",
    "\n",
    "# Inputs:\n",
    "#   fdark - Grayscale image \n",
    "#   fmin - Grayscale image \n",
    "#   fmax - Grayscale image \n",
    "#   mask - Binary mask of selected contours \n",
    "#   bins - Number of grayscale bins (0-256 for 8-bit img, 0-65536 for 16-bit). Default bins = 256\n",
    "fvfm_images = pcv.fluor_fvfm(fdark=fdark, fmin=fmin, fmax=fmax, mask=kept_mask, bins=256)\n"
   ]
  },
  {
   "cell_type": "code",
   "execution_count": null,
   "metadata": {},
   "outputs": [],
   "source": [
    "# Store the two images\\n\n",
    "fv_img = fvfm_images[0]\n",
    "fvfm_hist = fvfm_images[1]\n",
    "    \n",
    "# Print out the histogram \n",
    "pcv.print_image(fvfm_hist, filename=\"tutorial_fvfm_hist.jpg\")\n",
    "\n"
   ]
  },
  {
   "cell_type": "code",
   "execution_count": null,
   "metadata": {},
   "outputs": [],
   "source": [
    "# Use pcv.visualize.pseudocolor to pseudocolor the image. This function gives \n",
    "# the user more control of how the pseudocolored image looks. \n",
    "\n",
    "# Inputs:\n",
    "#     gray_img - Grayscale image data\n",
    "#     obj - Single or grouped contour object (optional), if provided the pseudocolored image gets cropped down to the region of interest.\n",
    "#     mask - Binary mask (optional) \n",
    "#     background - Background color/type. Options are \"image\" (gray_img), \"white\", or \"black\". A mask must be supplied.\n",
    "#     cmap - Colormap (https://matplotlib.org/tutorials/colors/colormaps.html)\n",
    "#     min_value - Minimum value for range of interest\n",
    "#     max_value - Maximum value for range of interest\n",
    "#     dpi - Dots per inch for image if printed out (optional, if dpi=None then the default is set to 100 dpi).\n",
    "#     axes - If False then the title, x-axis, and y-axis won't be displayed (default axes=True).\n",
    "#     colorbar - If False then the colorbar won't be displayed (default colorbar=True)\n",
    "\n",
    "\n",
    "# Pseudocolor the Fv/Fm grayscale image that is calculated inside the fluor_fvfm function \n",
    "pseudocolored_img = pcv.visualize.pseudocolor(gray_img=fv_img, obj=None, mask=kept_mask, cmap='jet')\n",
    "\n",
    "# Plot with the option background='image', and try limiting min and max values \n",
    "simple_pseudo_img = pcv.visualize.pseudocolor(gray_img=fv_img, obj=None, mask=kept_mask, background=\"image\", \n",
    "                                              axes=False, colorbar=False, cmap='jet', min_value=10, max_value=110)\n"
   ]
  },
  {
   "cell_type": "code",
   "execution_count": null,
   "metadata": {},
   "outputs": [],
   "source": [
    "# The print_results function will take the measurements stored when running any (or all) of these functions, format, \n",
    "# and print an output text file for data analysis. The Outputs class stores data whenever any of the following functions\n",
    "# are ran: analyze_bound_horizontal, analyze_bound_vertical, analyze_color, analyze_nir_intensity, analyze_object, \n",
    "# fluor_fvfm, report_size_marker_area, watershed. If no functions have been run, it will print an empty text file \n",
    "pcv.print_results(filename='psII_tutorial_results.txt')\n"
   ]
  },
  {
   "cell_type": "markdown",
   "metadata": {},
   "source": [
    "To view and/or download the text file output (saved in JSON format)...\n",
    "1) To see the text file with data that got saved out, click “File” tab in top left corner.\n",
    "2) Click “Open…”\n",
    "3) Open the file named “psII_tutorial_results.txt”\n",
    "\n",
    "Check out documentation on how to [convert JSON](https://plantcv.readthedocs.io/en/latest/tools/#convert-output-json-data-files-to-csv-tables) format output into table formatted output. Depending on the analysis steps a PlantCV user may have two CSV files (single value traits and multivalue traits). \n"
   ]
  },
  {
   "cell_type": "markdown",
   "metadata": {},
   "source": [
    ""
   ]
  },
  {
   "cell_type": "code",
   "execution_count": null,
   "metadata": {},
   "outputs": [],
   "source": []
  }
 ],
 "metadata": {
  "kernelspec": {
   "display_name": "Python 2",
   "language": "python",
   "name": "python2"
  },
  "language_info": {
   "codemirror_mode": {
    "name": "ipython",
    "version": 2
   },
   "file_extension": ".py",
   "mimetype": "text/x-python",
   "name": "python",
   "nbconvert_exporter": "python",
   "pygments_lexer": "ipython2",
   "version": "2.7.6"
  }
 },
 "nbformat": 4,
 "nbformat_minor": 0
}
