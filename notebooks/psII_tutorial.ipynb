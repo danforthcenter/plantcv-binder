{
 "cells": [
  {
   "cell_type": "markdown",
   "metadata": {
    "collapsed": true
   },
   "source": [
    "# PSII Tutorial \n",
    "\n",
    "PSII images (3 in a set; F0, Fmin, and Fmax) are captured directly following a saturating fluorescence pulse \n",
    "(red light; 630 nm). These three PSII images can be used to calculate Fv/Fm (efficiency of photosystem II) \n",
    "for each pixel of the plant. Unfortunately, our PSII imaging cabinet has a design flaw when capturing images \n",
    "of plants with vertical architecture. You can read more about how we validated this flaw using our PSII \n",
    "analysis workflows in the [PlantCV Paper](http://dx.doi.org/10.1016/j.molp.2015.06.005).\n",
    "\n",
    "To run a PSII workflow over a single PSII image set (3 images) there are 4 required inputs:\n",
    "\n",
    "1.  **Image 1:** F0 (a.k.a Fdark/null) image.\n",
    "2.  **Image 2:** Fmin image.\n",
    "3.  **Image 3:** Fmax image. \n",
    "5.  **Output directory:** If debug mode is set to 'print' output images from each step are produced."
   ]
  },
  {
   "cell_type": "code",
   "execution_count": null,
   "metadata": {},
   "outputs": [],
   "source": [
    "# Import libraries \n",
    "from plantcv import plantcv as pcv\n"
   ]
  },
  {
   "cell_type": "code",
   "execution_count": null,
   "metadata": {},
   "outputs": [],
   "source": [
    "class options:\n",
    "    def __init__(self):\n",
    "        self.image = \"img/tutorial_images/psII/PSII_PSD_supopt_temp_btx623_22_rep1.DAT\"\n",
    "        self.debug = \"plot\"\n",
    "        self.writeimg= False \n",
    "        self.result = \"./psII_tutorial_results\"\n",
    "        self.outdir = \".\" # Store the output to the current directory\n",
    "\n",
    "# Get options\n",
    "args = options()\n",
    "\n",
    "# Set debug to the global parameter \n",
    "pcv.params.debug = args.debug\n"
   ]
  },
  {
   "cell_type": "code",
   "execution_count": null,
   "metadata": {},
   "outputs": [],
   "source": [
    "# Read fluorescence image data\n",
    "\n",
    "# Inputs:\n",
    "#   filename - Image file to be read in \n",
    "#   mode - How to read in the image; either 'native' (default), 'rgb', 'gray', or 'csv'\n",
    "fdark1, fmin1, fmax1 = pcv.photosynthesis.read_cropreporter(args.image)\n",
    "\n"
   ]
  },
  {
   "cell_type": "code",
   "execution_count": null,
   "metadata": {},
   "outputs": [],
   "source": [
    "# Rotate each frame so that plant is upright\n",
    "\n",
    "# Inputs:\n",
    "#   img             - Image data\n",
    "#   rotation_deg    - Rotation angle in degrees, can be a negative number, positive values move counter clockwise\n",
    "#   crop            - If crop is set to True, image will be cropped to original image dimensions. If set to False, the image size will be adjusted to accommodate new image dimensions.\n",
    "fdark = pcv.rotate(img=fdark1, rotation_deg=-90, crop=False)\n",
    "fmin = pcv.rotate(img=fmin1, rotation_deg=-90, crop=False)\n",
    "fmax = pcv.rotate(img=fmax1, rotation_deg=-90, crop=False)\n"
   ]
  },
  {
   "cell_type": "code",
   "execution_count": null,
   "metadata": {},
   "outputs": [],
   "source": [
    "# Threshold the `fmax` image\n",
    "\n",
    "# Inputs:\n",
    "#   gray_img        - Grayscale image data\n",
    "#   threshold       - Threshold value (usually between 0-255)\n",
    "#   max_value       - Value to apply above threshold (255 = white)\n",
    "#   object_type     - 'light' (default) or 'dark'. If the object is lighter than the\n",
    "#                       background then standard threshold is done. If the object is\n",
    "#                       darker than the background then inverse thresholding is done.\n",
    "plant_mask = pcv.threshold.binary(gray_img=fmax, threshold=855, max_value=255, object_type=\"light\")\n"
   ]
  },
  {
   "cell_type": "code",
   "execution_count": null,
   "metadata": {},
   "outputs": [],
   "source": [
    "# Fill small objects\n",
    "\n",
    "# Inputs:\n",
    "#   bin_img         - Binary image data\n",
    "#   size            - Minimum object area size in pixels (integer), smaller objects get filled in.\n",
    "cleaned_mask = pcv.fill(bin_img=plant_mask, size=20)"
   ]
  },
  {
   "cell_type": "code",
   "execution_count": null,
   "metadata": {},
   "outputs": [],
   "source": [
    "# Identify objects\n",
    "\n",
    "# Inputs:\n",
    "#   img             - RGB or grayscale image data for plotting\n",
    "#   mask            - Binary mask used for detecting contours\n",
    "id_objects ,obj_hierarchy = pcv.find_objects(img=fmax, mask=cleaned_mask)"
   ]
  },
  {
   "cell_type": "code",
   "execution_count": null,
   "metadata": {},
   "outputs": [],
   "source": [
    "# Object combine kept objects\n",
    "\n",
    "# Inputs:\n",
    "#   img - RGB or grayscale image data for plotting\n",
    "#   contours        - Contour list\n",
    "#   hierarchy       - Contour hierarchy array\n",
    "obj, masked = pcv.object_composition(img=cleaned_mask, contours=id_objects, hierarchy=obj_hierarchy)\n",
    "\n"
   ]
  },
  {
   "cell_type": "markdown",
   "metadata": {},
   "source": [
    "Now we can analyze the plant objects for traits such as shape, or PSII signal. "
   ]
  },
  {
   "cell_type": "code",
   "execution_count": null,
   "metadata": {},
   "outputs": [],
   "source": [
    "################ Analysis ################  \n",
    "\n",
    "# Find shape properties, output shape image (optional)\n",
    "\n",
    "# Inputs:\n",
    "#   img             - RGB or grayscale image data\n",
    "#   obj             - Single or grouped contour object\n",
    "#   mask            - Binary image mask to use as mask for moments analysis\n",
    "#   label           - Optional label parameter, modifies the variable name of observations recorded. (default `label=\"default\"`)filled_img = pcv.morphology.fill_segments(mask=cropped_mask, objects=edge_objects)\n",
    "\n",
    "shape_img = pcv.analyze_object(img=fmax, obj=obj, mask=cleaned_mask)\n",
    "\n"
   ]
  },
  {
   "cell_type": "code",
   "execution_count": null,
   "metadata": {},
   "outputs": [],
   "source": [
    "# Analyze fv/fm fluorescence properties\n",
    "\n",
    "# Inputs:\n",
    "#   fdark           - Grayscale image\n",
    "#   fmin            - Grayscale image\n",
    "#   fmax            - Grayscale image\n",
    "#   mask            - Binary mask of selected contours\n",
    "#   bins            - Number of grayscale bins (0-256 for 8-bit img, 0-65536 for 16-bit). Default bins = 256\n",
    "#   label           - Optional label parameter, modifies the variable name of observations recorded. (default `label=\"default\"`)filled_img = pcv.morphology.fill_segments(mask=cropped_mask, objects=edge_objects)\n",
    "\n",
    "fvfm_images = pcv.photosynthesis.analyze_fvfm(fdark=fdark, fmin=fmin, fmax=fmax, mask=cleaned_mask, bins=256)\n"
   ]
  },
  {
   "cell_type": "code",
   "execution_count": null,
   "metadata": {},
   "outputs": [],
   "source": [
    "# Store the two fv_fm images\n",
    "fvfm_img = fvfm_images[0]\n",
    "fvfm_hist = fvfm_images[1]"
   ]
  },
  {
   "cell_type": "code",
   "execution_count": null,
   "metadata": {},
   "outputs": [],
   "source": [
    "# Pseudocolor the Fv/Fm grayscale image that is calculated inside the fluor_fvfm function\n",
    "\n",
    "# Inputs:\n",
    "#     gray_img      - Grayscale image data\n",
    "#     obj           - Single or grouped contour object (optional), if provided the pseudocolored image gets cropped down to the region of interest.\n",
    "#     mask          - Binary mask (optional)\n",
    "#     background    - Background color/type. Options are \"image\" (gray_img), \"white\", or \"black\". A mask must be supplied.\n",
    "#     cmap          - Colormap (https://matplotlib.org/tutorials/colors/colormaps.html)\n",
    "#     min_value     - Minimum value for range of interest\n",
    "#     max_value     - Maximum value for range of interest\n",
    "#     dpi           - Dots per inch for image if printed out (optional, if dpi=None then the default is set to 100 dpi).\n",
    "#     axes          - If False then the title, x-axis, and y-axis won't be displayed (default axes=True).\n",
    "#     colorbar      - If False then the colorbar won't be displayed (default colorbar=True)\n",
    "pseudocolored_img = pcv.visualize.pseudocolor(gray_img=fvfm_img, mask=cleaned_mask, cmap='jet')\n",
    "\n",
    "simple_pseudo_img = pcv.visualize.pseudocolor(gray_img=fvfm_img, obj=None, mask=cleaned_mask, background=\"image\", \n",
    "                                              axes=False, cmap='rainbow', min_value=0.5, max_value=0.9)\n"
   ]
  },
  {
   "cell_type": "code",
   "execution_count": null,
   "metadata": {},
   "outputs": [],
   "source": [
    "# Write shape and nir data to results file\n",
    "pcv.print_results(filename=args.result)\n",
    "\n"
   ]
  },
  {
   "cell_type": "markdown",
   "metadata": {},
   "source": [
    "To view and/or download the text file output (saved in JSON format)...\n",
    "1) To see the text file with data that got saved out, click “File” tab in top left corner.\n",
    "2) Click “Open…”\n",
    "3) Open the file named “psII_tutorial_results.txt”\n",
    "\n",
    "Check out documentation on how to [convert JSON](https://plantcv.readthedocs.io/en/latest/tools/#convert-output-json-data-files-to-csv-tables) format output into table formatted output. Depending on the analysis steps a PlantCV user may have two CSV files (single value traits and multivalue traits). \n"
   ]
  }
 ],
 "metadata": {
  "kernelspec": {
   "display_name": "Python 2",
   "language": "python",
   "name": "python2"
  },
  "language_info": {
   "codemirror_mode": {
    "name": "ipython",
    "version": 2
   },
   "file_extension": ".py",
   "mimetype": "text/x-python",
   "name": "python",
   "nbconvert_exporter": "python",
   "pygments_lexer": "ipython2",
   "version": "2.7.6"
  }
 },
 "nbformat": 4,
 "nbformat_minor": 0
}
