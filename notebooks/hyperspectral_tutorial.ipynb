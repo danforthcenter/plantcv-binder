{
 "cells": [
  {
   "cell_type": "markdown",
   "metadata": {
    "collapsed": true
   },
   "source": [
    "# Hyperspectral Tutorial \n",
    "\n",
    "Hyperspectral sub-package functions can be used with a clean mask of a plant. Users can extract commonly calculated indices (e.g. [NDVI](https://en.wikipedia.org/wiki/Normalized_difference_vegetation_index)) or specific bands that are the closest to a target wavelength reflectance band desired. Data from these extracted data can be saved out to compare samples.\n"
   ]
  },
  {
   "cell_type": "code",
   "execution_count": null,
   "metadata": {},
   "outputs": [],
   "source": [
    ""
   ]
  }
 ],
 "metadata": {
  "kernelspec": {
   "display_name": "Python 2",
   "language": "python",
   "name": "python2"
  },
  "language_info": {
   "codemirror_mode": {
    "name": "ipython",
    "version": 2
   },
   "file_extension": ".py",
   "mimetype": "text/x-python",
   "name": "python",
   "nbconvert_exporter": "python",
   "pygments_lexer": "ipython2",
   "version": "2.7.6"
  }
 },
 "nbformat": 4,
 "nbformat_minor": 0
}
